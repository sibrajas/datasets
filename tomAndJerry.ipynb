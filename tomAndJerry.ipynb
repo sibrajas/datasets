{
  "nbformat": 4,
  "nbformat_minor": 0,
  "metadata": {
    "colab": {
      "name": "tomAndJerry.ipynb",
      "provenance": [],
      "authorship_tag": "ABX9TyPT6tcqsNlLJTdy97gIYVTj",
      "include_colab_link": true
    },
    "kernelspec": {
      "name": "python3",
      "display_name": "Python 3"
    }
  },
  "cells": [
    {
      "cell_type": "markdown",
      "metadata": {
        "id": "view-in-github",
        "colab_type": "text"
      },
      "source": [
        "<a href=\"https://colab.research.google.com/github/sibrajas/datasets/blob/master/tomAndJerry.ipynb\" target=\"_parent\"><img src=\"https://colab.research.google.com/assets/colab-badge.svg\" alt=\"Open In Colab\"/></a>"
      ]
    },
    {
      "cell_type": "code",
      "metadata": {
        "id": "dsVFjujda5in",
        "colab_type": "code",
        "colab": {}
      },
      "source": [
        "import cv2\n",
        "import math\n",
        "import matplotlib.pyplot as plt\n",
        "import pandas as pd\n",
        "%matplotlib inline\n",
        "from keras.preprocessing import image\n",
        "import numpy as np\n",
        "from skimage.transform import resize"
      ],
      "execution_count": 0,
      "outputs": []
    },
    {
      "cell_type": "code",
      "metadata": {
        "id": "BzAuPzrOa-k_",
        "colab_type": "code",
        "colab": {}
      },
      "source": [
        "#import os\n",
        "#os.getcwd()\n",
        "#os.mkdir(\"/content/tomandjerry\")"
      ],
      "execution_count": 0,
      "outputs": []
    },
    {
      "cell_type": "code",
      "metadata": {
        "id": "YDk36KhacyfY",
        "colab_type": "code",
        "colab": {}
      },
      "source": [
        "#os.chdir(\"/content/tomandjerry\")"
      ],
      "execution_count": 0,
      "outputs": []
    },
    {
      "cell_type": "code",
      "metadata": {
        "id": "4rFXlAAUdXVZ",
        "colab_type": "code",
        "colab": {}
      },
      "source": [
        ""
      ],
      "execution_count": 0,
      "outputs": []
    },
    {
      "cell_type": "code",
      "metadata": {
        "id": "XlyIK4l_dY1Y",
        "colab_type": "code",
        "colab": {}
      },
      "source": [
        "#! git clone https://github.com/sibrajas/datasets.git\n",
        "#os.chdir('datasets')\n",
        "#! git pull\n",
        "#os.chdir('..')"
      ],
      "execution_count": 0,
      "outputs": []
    },
    {
      "cell_type": "code",
      "metadata": {
        "id": "qX5LP1Z3eBbU",
        "colab_type": "code",
        "colab": {
          "base_uri": "https://localhost:8080/",
          "height": 35
        },
        "outputId": "29c60c01-ed47-4ef9-8bed-981013532838"
      },
      "source": [
        "count = 0\n",
        "videoFile = \"datasets/TomAndJerry.mp4\"\n",
        "cap = cv2.VideoCapture(videoFile)\n",
        "frameRate = cap.get(5) #frame rate\n",
        "x=1\n",
        "while(cap.isOpened()):\n",
        "    frameId = cap.get(1) #current frame number\n",
        "    ret, frame = cap.read()\n",
        "    if (ret != True):\n",
        "        break\n",
        "    if (frameId % math.floor(frameRate) == 0):\n",
        "        filename =\"frame%d.jpg\" % count;count+=1\n",
        "        cv2.imwrite(filename, frame)\n",
        "        #print(filename)\n",
        "cap.release()\n",
        "print (\"Done!\"+str(count))"
      ],
      "execution_count": 86,
      "outputs": [
        {
          "output_type": "stream",
          "text": [
            "Done!298\n"
          ],
          "name": "stdout"
        }
      ]
    },
    {
      "cell_type": "code",
      "metadata": {
        "id": "frsclSa6mD--",
        "colab_type": "code",
        "colab": {
          "base_uri": "https://localhost:8080/",
          "height": 35
        },
        "outputId": "b764787e-4ccf-49b7-9bab-64f1f391375a"
      },
      "source": [
        "\n",
        "count = 0\n",
        "videoFile = \"datasets/TomAndJerryTest.mp4\"\n",
        "cap = cv2.VideoCapture(videoFile)\n",
        "frameRate = cap.get(5) #frame rate\n",
        "x=1\n",
        "while(cap.isOpened()):\n",
        "    frameId = cap.get(1) #current frame number\n",
        "    ret, frame = cap.read()\n",
        "    if (ret != True):\n",
        "        break\n",
        "    if (frameId % math.floor(frameRate) == 0):\n",
        "        filename =\"test%d.jpg\" % count;count+=1\n",
        "        cv2.imwrite(filename, frame)\n",
        "        #print(filename)\n",
        "cap.release()\n",
        "print (\"Done!\"+str(count))"
      ],
      "execution_count": 87,
      "outputs": [
        {
          "output_type": "stream",
          "text": [
            "Done!186\n"
          ],
          "name": "stdout"
        }
      ]
    },
    {
      "cell_type": "code",
      "metadata": {
        "id": "JLne3B4JeagH",
        "colab_type": "code",
        "colab": {
          "base_uri": "https://localhost:8080/",
          "height": 257
        },
        "outputId": "656992f4-8d85-4a20-a9f9-d5836c8e572b"
      },
      "source": [
        "img = plt.imread('frame0.jpg')   # reading image using its name\n",
        "plt.imshow(img)\n"
      ],
      "execution_count": 89,
      "outputs": [
        {
          "output_type": "execute_result",
          "data": {
            "text/plain": [
              "<matplotlib.image.AxesImage at 0x7f6f008ff278>"
            ]
          },
          "metadata": {
            "tags": []
          },
          "execution_count": 89
        },
        {
          "output_type": "display_data",
          "data": {
            "image/png": "[encoded data removed]",
            "text/plain": [
              "<Figure size 432x288 with 1 Axes>"
            ]
          },
          "metadata": {
            "tags": []
          }
        }
      ]
    },
    {
      "cell_type": "code",
      "metadata": {
        "id": "O3pc7Fj1lMmi",
        "colab_type": "code",
        "colab": {}
      },
      "source": [
        "data = pd.read_csv('datasets/mapping.csv')\n",
        "test = pd.read_csv('datasets/testing.csv')"
      ],
      "execution_count": 0,
      "outputs": []
    },
    {
      "cell_type": "code",
      "metadata": {
        "id": "Y1gdsYn2lOOG",
        "colab_type": "code",
        "colab": {}
      },
      "source": [
        "X = []\n",
        "for img_name in data.Image_ID:\n",
        "    img = plt.imread('' + img_name)\n",
        "    X.append(img)\n",
        "X = np.array(X)"
      ],
      "execution_count": 0,
      "outputs": []
    },
    {
      "cell_type": "code",
      "metadata": {
        "id": "fqo7hZ4Wlk3l",
        "colab_type": "code",
        "colab": {}
      },
      "source": [
        "test_image = []\n",
        "for img_name in test.Image_ID:\n",
        "    img = plt.imread('' + img_name)\n",
        "    test_image.append(img)\n",
        "test_img = np.array(test_image)"
      ],
      "execution_count": 0,
      "outputs": []
    },
    {
      "cell_type": "code",
      "metadata": {
        "id": "nuiRP22glqUM",
        "colab_type": "code",
        "colab": {}
      },
      "source": [
        "from keras.utils import np_utils\n",
        "train_y = np_utils.to_categorical(data.Class)\n",
        "test_y = np_utils.to_categorical(test.Class)"
      ],
      "execution_count": 0,
      "outputs": []
    },
    {
      "cell_type": "code",
      "metadata": {
        "id": "XuT5nVk_nedB",
        "colab_type": "code",
        "colab": {}
      },
      "source": [
        "image = []\n",
        "for i in range(0,X.shape[0]):\n",
        "    a = resize(X[i], preserve_range=True, output_shape=(224,224,3)).astype(int)\n",
        "    image.append(a)\n",
        "X = np.array(image)"
      ],
      "execution_count": 0,
      "outputs": []
    },
    {
      "cell_type": "code",
      "metadata": {
        "id": "SItlLCyGntAk",
        "colab_type": "code",
        "colab": {}
      },
      "source": [
        "test_image = []\n",
        "for i in range(0,test_img.shape[0]):\n",
        "    a = resize(test_img[i], preserve_range=True, output_shape=(224,224)).astype(int)\n",
        "    test_image.append(a)\n",
        "test_image = np.array(test_image)"
      ],
      "execution_count": 0,
      "outputs": []
    },
    {
      "cell_type": "code",
      "metadata": {
        "id": "hxNjBzlTn3N0",
        "colab_type": "code",
        "colab": {}
      },
      "source": [
        "from keras.applications.vgg16 import preprocess_input\n",
        "X = preprocess_input(X, mode='tf')\n",
        "test_image = preprocess_input(test_image, mode='tf')"
      ],
      "execution_count": 0,
      "outputs": []
    },
    {
      "cell_type": "code",
      "metadata": {
        "id": "fxDOw_YsoaJa",
        "colab_type": "code",
        "colab": {}
      },
      "source": [
        "from sklearn.model_selection import train_test_split\n",
        "X_train, X_valid, y_train, y_valid = train_test_split(X, train_y, test_size=0.3, random_state=42)\n",
        "\n",
        "\n",
        "from keras.models import Sequential\n",
        "from keras.applications.vgg16 import VGG16\n",
        "from keras.layers import Dense, InputLayer, Dropout\n",
        "base_model = VGG16(weights='imagenet', include_top=False, input_shape=(224, 224, 3))"
      ],
      "execution_count": 0,
      "outputs": []
    },
    {
      "cell_type": "code",
      "metadata": {
        "id": "O_gpBpi_ogBD",
        "colab_type": "code",
        "colab": {}
      },
      "source": [
        "X_train = base_model.predict(X_train)\n",
        "X_valid = base_model.predict(X_valid)\n",
        "test_image = base_model.predict(test_image)"
      ],
      "execution_count": 0,
      "outputs": []
    },
    {
      "cell_type": "code",
      "metadata": {
        "id": "614WlE2ro2qq",
        "colab_type": "code",
        "colab": {}
      },
      "source": [
        "X_train = X_train.reshape(208, 7*7*512)\n",
        "X_valid = X_valid.reshape(90, 7*7*512)\n",
        "test_image = test_image.reshape(186, 7*7*512)\n",
        "train = X_train/X_train.max()\n",
        "X_valid = X_valid/X_train.max()\n",
        "test_image = test_image/test_image.max()"
      ],
      "execution_count": 0,
      "outputs": []
    },
    {
      "cell_type": "code",
      "metadata": {
        "id": "DN_Qx2smp_IR",
        "colab_type": "code",
        "colab": {}
      },
      "source": [
        "model = Sequential()\n",
        "model.add(InputLayer((7*7*512,)))    # input layer\n",
        "model.add(Dense(units=1024, activation='sigmoid'))   # hidden layer\n",
        "model.add(Dropout(0.5))      # adding dropout\n",
        "model.add(Dense(units=512, activation='sigmoid'))    # hidden layer\n",
        "model.add(Dropout(0.5))      # adding dropout\n",
        "model.add(Dense(units=256, activation='sigmoid'))    # hidden layer\n",
        "model.add(Dropout(0.5))      # adding dropout\n",
        "model.add(Dense(3, activation='softmax'))            # output layer"
      ],
      "execution_count": 0,
      "outputs": []
    },
    {
      "cell_type": "code",
      "metadata": {
        "id": "SFvOxyqvp_vU",
        "colab_type": "code",
        "colab": {}
      },
      "source": [
        "model.compile(loss='categorical_crossentropy', optimizer='adam', metrics=['accuracy'])"
      ],
      "execution_count": 0,
      "outputs": []
    },
    {
      "cell_type": "code",
      "metadata": {
        "id": "4YjTkFtoqGN6",
        "colab_type": "code",
        "colab": {}
      },
      "source": [
        "from sklearn.utils.class_weight import compute_class_weight, compute_sample_weight\n",
        "class_weights = compute_class_weight('balanced',np.unique(data.Class), data.Class)  # computing weights of different classes"
      ],
      "execution_count": 0,
      "outputs": []
    },
    {
      "cell_type": "code",
      "metadata": {
        "id": "L7nCusOLqJ4u",
        "colab_type": "code",
        "colab": {}
      },
      "source": [
        "from keras.callbacks import ModelCheckpoint\n",
        "filepath=\"weights.best.hdf5\"\n",
        "checkpoint = ModelCheckpoint(filepath, monitor='val_loss', verbose=1, save_best_only=True, mode='min')\n",
        "callbacks_list = [checkpoint]      # model check pointing based on validation loss"
      ],
      "execution_count": 0,
      "outputs": []
    },
    {
      "cell_type": "code",
      "metadata": {
        "id": "Epk71uzVqMOe",
        "colab_type": "code",
        "colab": {
          "base_uri": "https://localhost:8080/",
          "height": 1000
        },
        "outputId": "81584fc1-d45a-4b75-de8a-01b123cdf420"
      },
      "source": [
        "model.fit(train, y_train, epochs=100, validation_data=(X_valid, y_valid), class_weight=class_weights, callbacks=callbacks_list)"
      ],
      "execution_count": 110,
      "outputs": [
        {
          "output_type": "stream",
          "text": [
            "Train on 208 samples, validate on 90 samples\n",
            "Epoch 1/100\n",
            "208/208 [==============================] - 4s 17ms/step - loss: 1.3890 - acc: 0.3654 - val_loss: 1.3118 - val_acc: 0.3667\n",
            "\n",
            "Epoch 00001: val_loss improved from inf to 1.31178, saving model to weights.best.hdf5\n",
            "Epoch 2/100\n",
            "208/208 [==============================] - 3s 13ms/step - loss: 1.1887 - acc: 0.4279 - val_loss: 1.0759 - val_acc: 0.3889\n",
            "\n",
            "Epoch 00002: val_loss improved from 1.31178 to 1.07591, saving model to weights.best.hdf5\n",
            "Epoch 3/100\n",
            "208/208 [==============================] - 3s 13ms/step - loss: 1.1709 - acc: 0.4087 - val_loss: 1.0138 - val_acc: 0.5333\n",
            "\n",
            "Epoch 00003: val_loss improved from 1.07591 to 1.01383, saving model to weights.best.hdf5\n",
            "Epoch 4/100\n",
            "208/208 [==============================] - 3s 13ms/step - loss: 1.0853 - acc: 0.4856 - val_loss: 0.9841 - val_acc: 0.5778\n",
            "\n",
            "Epoch 00004: val_loss improved from 1.01383 to 0.98406, saving model to weights.best.hdf5\n",
            "Epoch 5/100\n",
            "208/208 [==============================] - 3s 13ms/step - loss: 1.0328 - acc: 0.4663 - val_loss: 0.9210 - val_acc: 0.6333\n",
            "\n",
            "Epoch 00005: val_loss improved from 0.98406 to 0.92098, saving model to weights.best.hdf5\n",
            "Epoch 6/100\n",
            "208/208 [==============================] - 3s 12ms/step - loss: 0.9957 - acc: 0.5288 - val_loss: 0.8038 - val_acc: 0.6556\n",
            "\n",
            "Epoch 00006: val_loss improved from 0.92098 to 0.80380, saving model to weights.best.hdf5\n",
            "Epoch 7/100\n",
            "208/208 [==============================] - 3s 13ms/step - loss: 0.7412 - acc: 0.7308 - val_loss: 0.7351 - val_acc: 0.6778\n",
            "\n",
            "Epoch 00007: val_loss improved from 0.80380 to 0.73511, saving model to weights.best.hdf5\n",
            "Epoch 8/100\n",
            "208/208 [==============================] - 3s 13ms/step - loss: 0.6001 - acc: 0.7788 - val_loss: 0.6209 - val_acc: 0.7667\n",
            "\n",
            "Epoch 00008: val_loss improved from 0.73511 to 0.62091, saving model to weights.best.hdf5\n",
            "Epoch 9/100\n",
            "208/208 [==============================] - 3s 13ms/step - loss: 0.4134 - acc: 0.8750 - val_loss: 0.5531 - val_acc: 0.8222\n",
            "\n",
            "Epoch 00009: val_loss improved from 0.62091 to 0.55313, saving model to weights.best.hdf5\n",
            "Epoch 10/100\n",
            "208/208 [==============================] - 3s 13ms/step - loss: 0.3094 - acc: 0.9183 - val_loss: 0.4386 - val_acc: 0.8000\n",
            "\n",
            "Epoch 00010: val_loss improved from 0.55313 to 0.43856, saving model to weights.best.hdf5\n",
            "Epoch 11/100\n",
            "208/208 [==============================] - 3s 13ms/step - loss: 0.1994 - acc: 0.9423 - val_loss: 0.3982 - val_acc: 0.8333\n",
            "\n",
            "Epoch 00011: val_loss improved from 0.43856 to 0.39819, saving model to weights.best.hdf5\n",
            "Epoch 12/100\n",
            "208/208 [==============================] - 3s 13ms/step - loss: 0.1446 - acc: 0.9423 - val_loss: 0.3770 - val_acc: 0.8444\n",
            "\n",
            "Epoch 00012: val_loss improved from 0.39819 to 0.37698, saving model to weights.best.hdf5\n",
            "Epoch 13/100\n",
            "208/208 [==============================] - 3s 13ms/step - loss: 0.1187 - acc: 0.9567 - val_loss: 0.3414 - val_acc: 0.8667\n",
            "\n",
            "Epoch 00013: val_loss improved from 0.37698 to 0.34142, saving model to weights.best.hdf5\n",
            "Epoch 14/100\n",
            "208/208 [==============================] - 3s 14ms/step - loss: 0.0757 - acc: 0.9808 - val_loss: 0.3909 - val_acc: 0.8444\n",
            "\n",
            "Epoch 00014: val_loss did not improve from 0.34142\n",
            "Epoch 15/100\n",
            "208/208 [==============================] - 3s 13ms/step - loss: 0.0978 - acc: 0.9615 - val_loss: 0.3926 - val_acc: 0.8333\n",
            "\n",
            "Epoch 00015: val_loss did not improve from 0.34142\n",
            "Epoch 16/100\n",
            "208/208 [==============================] - 3s 12ms/step - loss: 0.0495 - acc: 0.9952 - val_loss: 0.3547 - val_acc: 0.8889\n",
            "\n",
            "Epoch 00016: val_loss did not improve from 0.34142\n",
            "Epoch 17/100\n",
            "208/208 [==============================] - 3s 13ms/step - loss: 0.0645 - acc: 0.9808 - val_loss: 0.5391 - val_acc: 0.8333\n",
            "\n",
            "Epoch 00017: val_loss did not improve from 0.34142\n",
            "Epoch 18/100\n",
            "208/208 [==============================] - 3s 12ms/step - loss: 0.0440 - acc: 0.9904 - val_loss: 0.3842 - val_acc: 0.8444\n",
            "\n",
            "Epoch 00018: val_loss did not improve from 0.34142\n",
            "Epoch 19/100\n",
            "208/208 [==============================] - 3s 12ms/step - loss: 0.0338 - acc: 0.9952 - val_loss: 0.3286 - val_acc: 0.8889\n",
            "\n",
            "Epoch 00019: val_loss improved from 0.34142 to 0.32857, saving model to weights.best.hdf5\n",
            "Epoch 20/100\n",
            "208/208 [==============================] - 3s 12ms/step - loss: 0.0249 - acc: 0.9904 - val_loss: 0.4455 - val_acc: 0.8333\n",
            "\n",
            "Epoch 00020: val_loss did not improve from 0.32857\n",
            "Epoch 21/100\n",
            "208/208 [==============================] - 3s 13ms/step - loss: 0.0521 - acc: 0.9760 - val_loss: 0.3670 - val_acc: 0.8556\n",
            "\n",
            "Epoch 00021: val_loss did not improve from 0.32857\n",
            "Epoch 22/100\n",
            "208/208 [==============================] - 3s 13ms/step - loss: 0.0215 - acc: 0.9904 - val_loss: 0.3651 - val_acc: 0.8556\n",
            "\n",
            "Epoch 00022: val_loss did not improve from 0.32857\n",
            "Epoch 23/100\n",
            "208/208 [==============================] - 3s 13ms/step - loss: 0.0231 - acc: 0.9952 - val_loss: 0.3788 - val_acc: 0.8556\n",
            "\n",
            "Epoch 00023: val_loss did not improve from 0.32857\n",
            "Epoch 24/100\n",
            "208/208 [==============================] - 3s 12ms/step - loss: 0.0215 - acc: 0.9904 - val_loss: 0.3892 - val_acc: 0.8667\n",
            "\n",
            "Epoch 00024: val_loss did not improve from 0.32857\n",
            "Epoch 25/100\n",
            "208/208 [==============================] - 3s 13ms/step - loss: 0.0193 - acc: 0.9952 - val_loss: 0.3729 - val_acc: 0.8556\n",
            "\n",
            "Epoch 00025: val_loss did not improve from 0.32857\n",
            "Epoch 26/100\n",
            "208/208 [==============================] - 3s 12ms/step - loss: 0.0139 - acc: 0.9952 - val_loss: 0.3685 - val_acc: 0.8667\n",
            "\n",
            "Epoch 00026: val_loss did not improve from 0.32857\n",
            "Epoch 27/100\n",
            "208/208 [==============================] - 3s 12ms/step - loss: 0.0349 - acc: 0.9904 - val_loss: 0.4476 - val_acc: 0.8444\n",
            "\n",
            "Epoch 00027: val_loss did not improve from 0.32857\n",
            "Epoch 28/100\n",
            "208/208 [==============================] - 3s 12ms/step - loss: 0.0169 - acc: 0.9904 - val_loss: 0.3677 - val_acc: 0.8667\n",
            "\n",
            "Epoch 00028: val_loss did not improve from 0.32857\n",
            "Epoch 29/100\n",
            "208/208 [==============================] - 3s 13ms/step - loss: 0.0181 - acc: 0.9952 - val_loss: 0.3789 - val_acc: 0.8667\n",
            "\n",
            "Epoch 00029: val_loss did not improve from 0.32857\n",
            "Epoch 30/100\n",
            "208/208 [==============================] - 3s 12ms/step - loss: 0.0179 - acc: 0.9952 - val_loss: 0.3775 - val_acc: 0.8667\n",
            "\n",
            "Epoch 00030: val_loss did not improve from 0.32857\n",
            "Epoch 31/100\n",
            "208/208 [==============================] - 3s 12ms/step - loss: 0.0216 - acc: 0.9952 - val_loss: 0.3800 - val_acc: 0.8667\n",
            "\n",
            "Epoch 00031: val_loss did not improve from 0.32857\n",
            "Epoch 32/100\n",
            "208/208 [==============================] - 3s 12ms/step - loss: 0.0113 - acc: 0.9952 - val_loss: 0.3515 - val_acc: 0.8889\n",
            "\n",
            "Epoch 00032: val_loss did not improve from 0.32857\n",
            "Epoch 33/100\n",
            "208/208 [==============================] - 3s 12ms/step - loss: 0.0280 - acc: 0.9952 - val_loss: 0.3800 - val_acc: 0.8778\n",
            "\n",
            "Epoch 00033: val_loss did not improve from 0.32857\n",
            "Epoch 34/100\n",
            "208/208 [==============================] - 3s 12ms/step - loss: 0.0246 - acc: 0.9952 - val_loss: 0.4730 - val_acc: 0.8556\n",
            "\n",
            "Epoch 00034: val_loss did not improve from 0.32857\n",
            "Epoch 35/100\n",
            "208/208 [==============================] - 3s 12ms/step - loss: 0.0282 - acc: 0.9904 - val_loss: 0.4569 - val_acc: 0.8444\n",
            "\n",
            "Epoch 00035: val_loss did not improve from 0.32857\n",
            "Epoch 36/100\n",
            "208/208 [==============================] - 3s 13ms/step - loss: 0.0118 - acc: 0.9952 - val_loss: 0.3776 - val_acc: 0.8667\n",
            "\n",
            "Epoch 00036: val_loss did not improve from 0.32857\n",
            "Epoch 37/100\n",
            "208/208 [==============================] - 3s 13ms/step - loss: 0.0235 - acc: 0.9904 - val_loss: 0.4009 - val_acc: 0.8667\n",
            "\n",
            "Epoch 00037: val_loss did not improve from 0.32857\n",
            "Epoch 38/100\n",
            "208/208 [==============================] - 3s 12ms/step - loss: 0.0061 - acc: 1.0000 - val_loss: 0.4344 - val_acc: 0.8667\n",
            "\n",
            "Epoch 00038: val_loss did not improve from 0.32857\n",
            "Epoch 39/100\n",
            "208/208 [==============================] - 3s 13ms/step - loss: 0.0184 - acc: 0.9952 - val_loss: 0.3816 - val_acc: 0.8556\n",
            "\n",
            "Epoch 00039: val_loss did not improve from 0.32857\n",
            "Epoch 40/100\n",
            "208/208 [==============================] - 3s 13ms/step - loss: 0.0099 - acc: 0.9952 - val_loss: 0.3747 - val_acc: 0.8556\n",
            "\n",
            "Epoch 00040: val_loss did not improve from 0.32857\n",
            "Epoch 41/100\n",
            "208/208 [==============================] - 3s 13ms/step - loss: 0.0059 - acc: 1.0000 - val_loss: 0.4500 - val_acc: 0.8556\n",
            "\n",
            "Epoch 00041: val_loss did not improve from 0.32857\n",
            "Epoch 42/100\n",
            "208/208 [==============================] - 3s 13ms/step - loss: 0.0237 - acc: 0.9904 - val_loss: 0.4278 - val_acc: 0.8667\n",
            "\n",
            "Epoch 00042: val_loss did not improve from 0.32857\n",
            "Epoch 43/100\n",
            "208/208 [==============================] - 3s 12ms/step - loss: 0.0166 - acc: 0.9904 - val_loss: 0.3681 - val_acc: 0.8778\n",
            "\n",
            "Epoch 00043: val_loss did not improve from 0.32857\n",
            "Epoch 44/100\n",
            "208/208 [==============================] - 3s 12ms/step - loss: 0.0171 - acc: 0.9952 - val_loss: 0.3962 - val_acc: 0.8667\n",
            "\n",
            "Epoch 00044: val_loss did not improve from 0.32857\n",
            "Epoch 45/100\n",
            "208/208 [==============================] - 3s 12ms/step - loss: 0.0133 - acc: 0.9952 - val_loss: 0.4267 - val_acc: 0.8667\n",
            "\n",
            "Epoch 00045: val_loss did not improve from 0.32857\n",
            "Epoch 46/100\n",
            "208/208 [==============================] - 3s 12ms/step - loss: 0.0146 - acc: 0.9952 - val_loss: 0.3814 - val_acc: 0.8778\n",
            "\n",
            "Epoch 00046: val_loss did not improve from 0.32857\n",
            "Epoch 47/100\n",
            "208/208 [==============================] - 3s 12ms/step - loss: 0.0269 - acc: 0.9904 - val_loss: 0.3493 - val_acc: 0.9000\n",
            "\n",
            "Epoch 00047: val_loss did not improve from 0.32857\n",
            "Epoch 48/100\n",
            "208/208 [==============================] - 3s 12ms/step - loss: 0.0346 - acc: 0.9808 - val_loss: 0.4819 - val_acc: 0.8556\n",
            "\n",
            "Epoch 00048: val_loss did not improve from 0.32857\n",
            "Epoch 49/100\n",
            "208/208 [==============================] - 3s 12ms/step - loss: 0.0063 - acc: 0.9952 - val_loss: 0.3767 - val_acc: 0.8667\n",
            "\n",
            "Epoch 00049: val_loss did not improve from 0.32857\n",
            "Epoch 50/100\n",
            "208/208 [==============================] - 3s 12ms/step - loss: 0.0096 - acc: 0.9952 - val_loss: 0.3461 - val_acc: 0.9000\n",
            "\n",
            "Epoch 00050: val_loss did not improve from 0.32857\n",
            "Epoch 51/100\n",
            "208/208 [==============================] - 3s 12ms/step - loss: 0.0100 - acc: 0.9952 - val_loss: 0.3552 - val_acc: 0.9000\n",
            "\n",
            "Epoch 00051: val_loss did not improve from 0.32857\n",
            "Epoch 52/100\n",
            "208/208 [==============================] - 3s 13ms/step - loss: 0.0089 - acc: 0.9952 - val_loss: 0.4086 - val_acc: 0.8667\n",
            "\n",
            "Epoch 00052: val_loss did not improve from 0.32857\n",
            "Epoch 53/100\n",
            "208/208 [==============================] - 3s 13ms/step - loss: 0.0196 - acc: 0.9952 - val_loss: 0.4864 - val_acc: 0.8556\n",
            "\n",
            "Epoch 00053: val_loss did not improve from 0.32857\n",
            "Epoch 54/100\n",
            "208/208 [==============================] - 3s 12ms/step - loss: 0.0227 - acc: 0.9904 - val_loss: 0.4766 - val_acc: 0.8556\n",
            "\n",
            "Epoch 00054: val_loss did not improve from 0.32857\n",
            "Epoch 55/100\n",
            "208/208 [==============================] - 3s 12ms/step - loss: 0.0132 - acc: 0.9952 - val_loss: 0.4782 - val_acc: 0.8556\n",
            "\n",
            "Epoch 00055: val_loss did not improve from 0.32857\n",
            "Epoch 56/100\n",
            "208/208 [==============================] - 3s 12ms/step - loss: 0.0254 - acc: 0.9952 - val_loss: 0.3605 - val_acc: 0.8889\n",
            "\n",
            "Epoch 00056: val_loss did not improve from 0.32857\n",
            "Epoch 57/100\n",
            "208/208 [==============================] - 3s 13ms/step - loss: 0.0151 - acc: 0.9952 - val_loss: 0.3554 - val_acc: 0.8889\n",
            "\n",
            "Epoch 00057: val_loss did not improve from 0.32857\n",
            "Epoch 58/100\n",
            "208/208 [==============================] - 3s 12ms/step - loss: 0.0171 - acc: 0.9952 - val_loss: 0.4011 - val_acc: 0.8556\n",
            "\n",
            "Epoch 00058: val_loss did not improve from 0.32857\n",
            "Epoch 59/100\n",
            "208/208 [==============================] - 3s 12ms/step - loss: 0.0121 - acc: 0.9952 - val_loss: 0.4256 - val_acc: 0.8556\n",
            "\n",
            "Epoch 00059: val_loss did not improve from 0.32857\n",
            "Epoch 60/100\n",
            "208/208 [==============================] - 3s 12ms/step - loss: 0.0190 - acc: 0.9904 - val_loss: 0.4832 - val_acc: 0.8556\n",
            "\n",
            "Epoch 00060: val_loss did not improve from 0.32857\n",
            "Epoch 61/100\n",
            "208/208 [==============================] - 3s 12ms/step - loss: 0.0133 - acc: 0.9952 - val_loss: 0.4718 - val_acc: 0.8556\n",
            "\n",
            "Epoch 00061: val_loss did not improve from 0.32857\n",
            "Epoch 62/100\n",
            "208/208 [==============================] - 3s 12ms/step - loss: 0.0133 - acc: 0.9952 - val_loss: 0.3910 - val_acc: 0.8778\n",
            "\n",
            "Epoch 00062: val_loss did not improve from 0.32857\n",
            "Epoch 63/100\n",
            "208/208 [==============================] - 3s 12ms/step - loss: 0.0086 - acc: 0.9952 - val_loss: 0.3926 - val_acc: 0.8778\n",
            "\n",
            "Epoch 00063: val_loss did not improve from 0.32857\n",
            "Epoch 64/100\n",
            "208/208 [==============================] - 3s 12ms/step - loss: 0.0079 - acc: 0.9952 - val_loss: 0.4088 - val_acc: 0.8778\n",
            "\n",
            "Epoch 00064: val_loss did not improve from 0.32857\n",
            "Epoch 65/100\n",
            "208/208 [==============================] - 3s 12ms/step - loss: 0.0051 - acc: 1.0000 - val_loss: 0.4003 - val_acc: 0.8778\n",
            "\n",
            "Epoch 00065: val_loss did not improve from 0.32857\n",
            "Epoch 66/100\n",
            "208/208 [==============================] - 3s 12ms/step - loss: 0.0141 - acc: 0.9952 - val_loss: 0.4278 - val_acc: 0.8667\n",
            "\n",
            "Epoch 00066: val_loss did not improve from 0.32857\n",
            "Epoch 67/100\n",
            "208/208 [==============================] - 3s 12ms/step - loss: 0.0077 - acc: 0.9952 - val_loss: 0.4164 - val_acc: 0.8667\n",
            "\n",
            "Epoch 00067: val_loss did not improve from 0.32857\n",
            "Epoch 68/100\n",
            "208/208 [==============================] - 3s 12ms/step - loss: 0.0099 - acc: 0.9952 - val_loss: 0.3862 - val_acc: 0.8889\n",
            "\n",
            "Epoch 00068: val_loss did not improve from 0.32857\n",
            "Epoch 69/100\n",
            "208/208 [==============================] - 3s 12ms/step - loss: 0.0072 - acc: 0.9952 - val_loss: 0.4090 - val_acc: 0.8778\n",
            "\n",
            "Epoch 00069: val_loss did not improve from 0.32857\n",
            "Epoch 70/100\n",
            "208/208 [==============================] - 3s 12ms/step - loss: 0.0175 - acc: 0.9904 - val_loss: 0.4074 - val_acc: 0.8889\n",
            "\n",
            "Epoch 00070: val_loss did not improve from 0.32857\n",
            "Epoch 71/100\n",
            "208/208 [==============================] - 3s 12ms/step - loss: 0.0178 - acc: 0.9904 - val_loss: 0.4098 - val_acc: 0.8889\n",
            "\n",
            "Epoch 00071: val_loss did not improve from 0.32857\n",
            "Epoch 72/100\n",
            "208/208 [==============================] - 3s 12ms/step - loss: 0.0141 - acc: 0.9952 - val_loss: 0.4800 - val_acc: 0.8556\n",
            "\n",
            "Epoch 00072: val_loss did not improve from 0.32857\n",
            "Epoch 73/100\n",
            "208/208 [==============================] - 3s 12ms/step - loss: 0.0024 - acc: 1.0000 - val_loss: 0.5329 - val_acc: 0.8556\n",
            "\n",
            "Epoch 00073: val_loss did not improve from 0.32857\n",
            "Epoch 74/100\n",
            "208/208 [==============================] - 3s 12ms/step - loss: 0.0158 - acc: 0.9952 - val_loss: 0.4775 - val_acc: 0.8556\n",
            "\n",
            "Epoch 00074: val_loss did not improve from 0.32857\n",
            "Epoch 75/100\n",
            "208/208 [==============================] - 3s 12ms/step - loss: 0.0194 - acc: 0.9904 - val_loss: 0.4524 - val_acc: 0.8556\n",
            "\n",
            "Epoch 00075: val_loss did not improve from 0.32857\n",
            "Epoch 76/100\n",
            "208/208 [==============================] - 3s 13ms/step - loss: 0.0151 - acc: 0.9952 - val_loss: 0.4200 - val_acc: 0.8778\n",
            "\n",
            "Epoch 00076: val_loss did not improve from 0.32857\n",
            "Epoch 77/100\n",
            "208/208 [==============================] - 3s 12ms/step - loss: 0.0094 - acc: 0.9952 - val_loss: 0.4481 - val_acc: 0.8556\n",
            "\n",
            "Epoch 00077: val_loss did not improve from 0.32857\n",
            "Epoch 78/100\n",
            "208/208 [==============================] - 3s 12ms/step - loss: 0.0041 - acc: 1.0000 - val_loss: 0.4770 - val_acc: 0.8556\n",
            "\n",
            "Epoch 00078: val_loss did not improve from 0.32857\n",
            "Epoch 79/100\n",
            "208/208 [==============================] - 3s 12ms/step - loss: 0.0120 - acc: 0.9952 - val_loss: 0.4945 - val_acc: 0.8556\n",
            "\n",
            "Epoch 00079: val_loss did not improve from 0.32857\n",
            "Epoch 80/100\n",
            "208/208 [==============================] - 3s 12ms/step - loss: 0.0155 - acc: 0.9904 - val_loss: 0.4600 - val_acc: 0.8778\n",
            "\n",
            "Epoch 00080: val_loss did not improve from 0.32857\n",
            "Epoch 81/100\n",
            "208/208 [==============================] - 3s 12ms/step - loss: 0.0217 - acc: 0.9904 - val_loss: 0.4775 - val_acc: 0.8667\n",
            "\n",
            "Epoch 00081: val_loss did not improve from 0.32857\n",
            "Epoch 82/100\n",
            "208/208 [==============================] - 3s 12ms/step - loss: 0.0080 - acc: 0.9952 - val_loss: 0.4645 - val_acc: 0.8778\n",
            "\n",
            "Epoch 00082: val_loss did not improve from 0.32857\n",
            "Epoch 83/100\n",
            "208/208 [==============================] - 3s 12ms/step - loss: 0.0150 - acc: 0.9952 - val_loss: 0.4635 - val_acc: 0.8667\n",
            "\n",
            "Epoch 00083: val_loss did not improve from 0.32857\n",
            "Epoch 84/100\n",
            "208/208 [==============================] - 3s 12ms/step - loss: 0.0143 - acc: 0.9952 - val_loss: 0.5121 - val_acc: 0.8556\n",
            "\n",
            "Epoch 00084: val_loss did not improve from 0.32857\n",
            "Epoch 85/100\n",
            "208/208 [==============================] - 3s 13ms/step - loss: 0.0126 - acc: 0.9952 - val_loss: 0.5165 - val_acc: 0.8556\n",
            "\n",
            "Epoch 00085: val_loss did not improve from 0.32857\n",
            "Epoch 86/100\n",
            "208/208 [==============================] - 3s 12ms/step - loss: 0.0075 - acc: 0.9952 - val_loss: 0.4913 - val_acc: 0.8667\n",
            "\n",
            "Epoch 00086: val_loss did not improve from 0.32857\n",
            "Epoch 87/100\n",
            "208/208 [==============================] - 3s 12ms/step - loss: 0.0061 - acc: 1.0000 - val_loss: 0.4661 - val_acc: 0.8667\n",
            "\n",
            "Epoch 00087: val_loss did not improve from 0.32857\n",
            "Epoch 88/100\n",
            "208/208 [==============================] - 3s 12ms/step - loss: 0.0068 - acc: 1.0000 - val_loss: 0.4424 - val_acc: 0.8667\n",
            "\n",
            "Epoch 00088: val_loss did not improve from 0.32857\n",
            "Epoch 89/100\n",
            "208/208 [==============================] - 3s 12ms/step - loss: 0.0051 - acc: 1.0000 - val_loss: 0.4371 - val_acc: 0.8667\n",
            "\n",
            "Epoch 00089: val_loss did not improve from 0.32857\n",
            "Epoch 90/100\n",
            "208/208 [==============================] - 3s 12ms/step - loss: 0.0163 - acc: 0.9904 - val_loss: 0.4220 - val_acc: 0.9000\n",
            "\n",
            "Epoch 00090: val_loss did not improve from 0.32857\n",
            "Epoch 91/100\n",
            "208/208 [==============================] - 3s 12ms/step - loss: 0.0165 - acc: 0.9904 - val_loss: 0.4533 - val_acc: 0.8778\n",
            "\n",
            "Epoch 00091: val_loss did not improve from 0.32857\n",
            "Epoch 92/100\n",
            "208/208 [==============================] - 3s 12ms/step - loss: 0.0083 - acc: 0.9952 - val_loss: 0.5052 - val_acc: 0.8556\n",
            "\n",
            "Epoch 00092: val_loss did not improve from 0.32857\n",
            "Epoch 93/100\n",
            "208/208 [==============================] - 3s 12ms/step - loss: 0.0055 - acc: 0.9952 - val_loss: 0.4671 - val_acc: 0.8778\n",
            "\n",
            "Epoch 00093: val_loss did not improve from 0.32857\n",
            "Epoch 94/100\n",
            "208/208 [==============================] - 3s 12ms/step - loss: 0.0073 - acc: 0.9952 - val_loss: 0.4719 - val_acc: 0.8889\n",
            "\n",
            "Epoch 00094: val_loss did not improve from 0.32857\n",
            "Epoch 95/100\n",
            "208/208 [==============================] - 3s 12ms/step - loss: 0.0165 - acc: 0.9952 - val_loss: 0.4705 - val_acc: 0.8889\n",
            "\n",
            "Epoch 00095: val_loss did not improve from 0.32857\n",
            "Epoch 96/100\n",
            "208/208 [==============================] - 3s 12ms/step - loss: 0.0175 - acc: 0.9904 - val_loss: 0.4826 - val_acc: 0.8667\n",
            "\n",
            "Epoch 00096: val_loss did not improve from 0.32857\n",
            "Epoch 97/100\n",
            "208/208 [==============================] - 3s 12ms/step - loss: 0.0067 - acc: 0.9952 - val_loss: 0.4565 - val_acc: 0.8778\n",
            "\n",
            "Epoch 00097: val_loss did not improve from 0.32857\n",
            "Epoch 98/100\n",
            "208/208 [==============================] - 3s 13ms/step - loss: 0.0042 - acc: 1.0000 - val_loss: 0.4515 - val_acc: 0.8778\n",
            "\n",
            "Epoch 00098: val_loss did not improve from 0.32857\n",
            "Epoch 99/100\n",
            "208/208 [==============================] - 3s 12ms/step - loss: 0.0094 - acc: 0.9952 - val_loss: 0.4737 - val_acc: 0.8667\n",
            "\n",
            "Epoch 00099: val_loss did not improve from 0.32857\n",
            "Epoch 100/100\n",
            "208/208 [==============================] - 3s 12ms/step - loss: 0.0072 - acc: 0.9952 - val_loss: 0.4996 - val_acc: 0.8556\n",
            "\n",
            "Epoch 00100: val_loss did not improve from 0.32857\n"
          ],
          "name": "stdout"
        },
        {
          "output_type": "execute_result",
          "data": {
            "text/plain": [
              "<keras.callbacks.History at 0x7f6f01227588>"
            ]
          },
          "metadata": {
            "tags": []
          },
          "execution_count": 110
        }
      ]
    },
    {
      "cell_type": "code",
      "metadata": {
        "id": "HKR5JyR8qO0v",
        "colab_type": "code",
        "colab": {}
      },
      "source": [
        "model.load_weights(\"weights.best.hdf5\")\n",
        "model.compile(loss='categorical_crossentropy', optimizer='adam', metrics=['accuracy'])"
      ],
      "execution_count": 0,
      "outputs": []
    },
    {
      "cell_type": "code",
      "metadata": {
        "id": "eYJ_v6kfrb5a",
        "colab_type": "code",
        "colab": {
          "base_uri": "https://localhost:8080/",
          "height": 52
        },
        "outputId": "9e09a13e-8ae0-4016-a018-301f65be4562"
      },
      "source": [
        "test_y = np_utils.to_categorical(test.Class)\n",
        "scores = model.evaluate(test_image, test_y)\n",
        "print(\"%s: %.2f%%\" % (model.metrics_names[1], scores[1]*100))"
      ],
      "execution_count": 112,
      "outputs": [
        {
          "output_type": "stream",
          "text": [
            "186/186 [==============================] - 1s 3ms/step\n",
            "acc: 65.05%\n"
          ],
          "name": "stdout"
        }
      ]
    },
    {
      "cell_type": "code",
      "metadata": {
        "id": "SMJBVGRCreu4",
        "colab_type": "code",
        "colab": {}
      },
      "source": [
        ""
      ],
      "execution_count": 0,
      "outputs": []
    }
  ]
}